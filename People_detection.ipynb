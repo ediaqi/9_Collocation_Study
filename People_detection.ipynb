{
 "cells": [
  {
   "cell_type": "markdown",
   "id": "64ba3bae",
   "metadata": {},
   "source": [
    "# People detection using indoor air sensors"
   ]
  },
  {
   "cell_type": "markdown",
   "id": "fceca864",
   "metadata": {},
   "source": [
    "### Dependencies"
   ]
  },
  {
   "cell_type": "markdown",
   "id": "21f867e9",
   "metadata": {},
   "source": [
    "#### Package installation\n",
    "\n",
    "This script requires NumPy, Scikit-learn, Pandas and wget to run"
   ]
  },
  {
   "cell_type": "code",
   "execution_count": null,
   "id": "0994c182",
   "metadata": {},
   "outputs": [
    {
     "name": "stdout",
     "output_type": "stream",
     "text": [
      "Requirement already satisfied: numpy in .\\collocation_study\\lib\\site-packages (2.2.6)\n",
      "Requirement already satisfied: scikit-learn in .\\collocation_study\\lib\\site-packages (1.7.0)\n",
      "Requirement already satisfied: pandas in .\\collocation_study\\lib\\site-packages (2.2.3)\n",
      "Requirement already satisfied: wget in .\\collocation_study\\lib\\site-packages (3.2)\n",
      "Requirement already satisfied: scipy>=1.8.0 in .\\collocation_study\\lib\\site-packages (from scikit-learn) (1.15.3)\n",
      "Requirement already satisfied: joblib>=1.2.0 in .\\collocation_study\\lib\\site-packages (from scikit-learn) (1.5.1)\n",
      "Requirement already satisfied: threadpoolctl>=3.1.0 in .\\collocation_study\\lib\\site-packages (from scikit-learn) (3.6.0)\n",
      "Requirement already satisfied: python-dateutil>=2.8.2 in .\\collocation_study\\lib\\site-packages (from pandas) (2.9.0.post0)\n",
      "Requirement already satisfied: pytz>=2020.1 in .\\collocation_study\\lib\\site-packages (from pandas) (2025.2)\n",
      "Requirement already satisfied: tzdata>=2022.7 in .\\collocation_study\\lib\\site-packages (from pandas) (2025.2)\n",
      "Requirement already satisfied: six>=1.5 in .\\collocation_study\\lib\\site-packages (from python-dateutil>=2.8.2->pandas) (1.17.0)\n"
     ]
    },
    {
     "name": "stderr",
     "output_type": "stream",
     "text": [
      "\n",
      "[notice] A new release of pip is available: 25.0.1 -> 25.1.1\n",
      "[notice] To update, run: python.exe -m pip install --upgrade pip\n"
     ]
    }
   ],
   "source": [
    "import sys\n",
    "\n",
    "!{sys.executable} -m pip install numpy D pandas wget"
   ]
  },
  {
   "cell_type": "code",
   "execution_count": 1,
   "id": "bb7a1f7a",
   "metadata": {},
   "outputs": [],
   "source": [
    "import pandas as pd\n",
    "import numpy as np\n",
    "import sklearn as sk\n",
    "import os\n",
    "import zipfile\n",
    "import wget"
   ]
  },
  {
   "cell_type": "markdown",
   "id": "67cf406b",
   "metadata": {},
   "source": [
    "#### Data download\n",
    "\n",
    "Dataset that is required to run this script is available at Zenodo\n",
    "\n",
    "URL for the dataset is https://zenodo.org/records/15224267"
   ]
  },
  {
   "cell_type": "code",
   "execution_count": 2,
   "id": "97f1df77",
   "metadata": {},
   "outputs": [
    {
     "data": {
      "text/plain": [
       "'./data/data.zip'"
      ]
     },
     "execution_count": 2,
     "metadata": {},
     "output_type": "execute_result"
    }
   ],
   "source": [
    "url = 'https://zenodo.org/records/15224267/files/data.zip?download=1'\n",
    "filepath = './data/data.zip'\n",
    "os.makedirs('data', exist_ok=True)\n",
    "wget.download(url, filepath)"
   ]
  },
  {
   "cell_type": "markdown",
   "id": "e01eaab3",
   "metadata": {},
   "source": [
    "Data is archived as a zip file. File contents are extracted to data folder"
   ]
  },
  {
   "cell_type": "code",
   "execution_count": 3,
   "id": "4e35aa4e",
   "metadata": {},
   "outputs": [],
   "source": [
    "zip_file_path = './data/data.zip'\n",
    "extraction_dir = '.'\n",
    "os.makedirs(extraction_dir, exist_ok=True)\n",
    "with zipfile.ZipFile(zip_file_path, 'r') as zip_ref:\n",
    "    zip_ref.extractall(extraction_dir)\n",
    "os.remove(zip_file_path)"
   ]
  },
  {
   "cell_type": "markdown",
   "id": "f9b1681f",
   "metadata": {},
   "source": [
    "### Data processing"
   ]
  },
  {
   "cell_type": "markdown",
   "id": "75dc3633",
   "metadata": {},
   "source": [
    "#### Loading data"
   ]
  },
  {
   "cell_type": "markdown",
   "id": "2058b10f",
   "metadata": {},
   "source": [
    "Script uses four parameters for indoor and outdoor sensor data. These parameters are CO2 levels, temperature, relative humidity and PM10 levels. This map defines columns containing this data for each sensor provider."
   ]
  },
  {
   "cell_type": "code",
   "execution_count": 4,
   "id": "1bbc825f",
   "metadata": {},
   "outputs": [],
   "source": [
    "sensor_param_map ={\n",
    "'df_4': [r\"CO2 (ppm)_sensor_1\", r\"Temperature (°C)_sensor_1\", r\"Humidity (%)_sensor_1\", r\"PM10 (µg/m3)_sensor_1\"], \n",
    "'df_1': [r\"CO2[ppm]\", r\"T[°C]\", r\"RH[%]\", r\"PM10[ugm3]\"], \n",
    "'df_2': [r\"CO2 (ppm)\", r\"Temperature (°C)\", r\"Humidity (%)\", r\"PM 10 (µg/m3)\"],\n",
    "'df_3': [r\"CO2 (ppm)\", r\"Temperature (°C)\", r\"Humidity (%) \", r\"PM 10 (µg/m3)\"], \n",
    "'df_5': [r\"CO2 (ppm)_sensor_1\", r\"Temperature °C_sensor_1\", r\"Humidity %_sensor_1\", r\"PM10 (ppb)_sensor_1\"], \n",
    "'df_6': [r\"CO2 (ppm)_sensor_10\", r\"Temperature (°C)_sensor_10\", r\"Humidity (%)_sensor_10\", r\"PM10 (µg/m3)_sensor_10\"], \n",
    "'df_ref': [r\"CO2 [ppm]\", r\"T [°C]\", r\"rH [%]\", r\"PM10 [µg/m³]\"], \n",
    "'df_out' : [r\"CO2(mg/m³)\", r\"temperature(C)\", r\"relativeHumidity(%)\", r\"PM10(µg/m³)\"],\n",
    "    }"
   ]
  },
  {
   "cell_type": "markdown",
   "id": "67009347",
   "metadata": {},
   "source": [
    "indoor_data_load() function loads data for a given sensor provider and resample rate"
   ]
  },
  {
   "cell_type": "code",
   "execution_count": 5,
   "id": "ef7da258",
   "metadata": {},
   "outputs": [],
   "source": [
    "def indoor_data_load(sel_df, resample_rate):\n",
    "    \n",
    "    files = {\n",
    "        'df_4': 'Indoor_sensor_provider_4.csv',\n",
    "        'df_1': 'Indoor_sensor_provider_1.csv',\n",
    "        'df_2': 'Indoor_sensor_provider_2.csv',\n",
    "        'df_3': 'Indoor_sensor_provider_3.csv',\n",
    "        'df_5': 'Indoor_sensor_provider_5.csv',\n",
    "        'df_6': 'Indoor_sensor_provider_6.csv',\n",
    "        'df_ref': 'Indoor_referent_device.csv'\n",
    "    }\n",
    "    #extract all data into a dictionary of dataframes\n",
    "    dfs = {name: pd.read_csv(f'./data/{path}', index_col=0) for name, path in files.items()} \n",
    "    \n",
    "    #defining timestamp column for each dataframe\n",
    "    timestamp_map = {\n",
    "    'df_4': 'timestamp', 'df_1': 'timestamp', 'df_2': 'Timestamp',\n",
    "    'df_3': 'Timestamp', 'df_5': 'Timestamp', 'df_ref': 'timestamp'\n",
    "    }\n",
    "\n",
    "    #converting timestamps to datetime format and index for each dataframe\n",
    "    for key in dfs:\n",
    "        if key == 'df_ref': \n",
    "            dfs[key].set_index('Timestamp', inplace=True)\n",
    "            dfs[key].index = pd.to_datetime(dfs[key].index)\n",
    "        else:\n",
    "            dfs[key].index = pd.to_datetime(dfs[key].index)\n",
    "\n",
    "    #selecting a dataframe, defining its sensor parameters and resampling it\n",
    "    df = dfs[sel_df][sensor_param_map[sel_df]].resample(resample_rate).mean()\n",
    "    df.columns = [\"Indoor CO2\", \"Indoor Temperature\", \"Indoor Humidity\", \"Indoor PM10\"]\n",
    "    \n",
    "    return df"
   ]
  },
  {
   "cell_type": "markdown",
   "id": "b65fea1f",
   "metadata": {},
   "source": [
    "outdoor_data_load() function loads outdoor data for a given resample rate"
   ]
  },
  {
   "cell_type": "code",
   "execution_count": 6,
   "id": "b745caf6",
   "metadata": {},
   "outputs": [],
   "source": [
    "def outdoor_data_load(resample_rate):\n",
    "    #extract data\n",
    "    df = pd.read_csv('./data/Outdoor_sensor_provider_2.csv', index_col=0)\n",
    "    #convert timestamp to datetime and set it to the index\n",
    "    df.set_index('Timestamp', inplace=True)\n",
    "    df.index = pd.to_datetime(df.index)\n",
    "    #extract columns and resample data\n",
    "    df = df[sensor_param_map[\"df_out\"]].resample(resample_rate).mean()\n",
    "    df.columns = [\"Outdoor CO2\", \"Outdoor Temperature\", \"Outdoor Humidity\", \"Outdoor PM10\"]\n",
    "    return df\n",
    "    "
   ]
  },
  {
   "cell_type": "markdown",
   "id": "8e2eca75",
   "metadata": {},
   "source": [
    "target_load() function loads targets. In this case, targets are human presence at a given time"
   ]
  },
  {
   "cell_type": "code",
   "execution_count": 7,
   "id": "e39e8f0a",
   "metadata": {},
   "outputs": [],
   "source": [
    "def target_load(resample_rate):\n",
    "    #extract data\n",
    "    df = pd.read_csv('./data/People.csv', index_col=0)\n",
    "    #convert timestamp to datetime and set it to the index\n",
    "    df.set_index('Timestamp', inplace=True)\n",
    "    df.index = pd.to_datetime(df.index)\n",
    "    #extract columns and resample data, null values are filled with 0\n",
    "    df = df.resample(resample_rate).max().fillna(0)\n",
    "    df.loc[df['People in a room'] > 1, 'People in a room'] = 1 #if there's more than one person at a given time, set the value to 1\n",
    "    return df"
   ]
  },
  {
   "cell_type": "markdown",
   "id": "b4c14008",
   "metadata": {},
   "source": [
    "Select an indoor sensor and resample rate. Feel free to change these parameters"
   ]
  },
  {
   "cell_type": "code",
   "execution_count": 8,
   "id": "78087b27",
   "metadata": {},
   "outputs": [],
   "source": [
    "sel_df = \"df_3\" #indoor sensor selector, choices are df_1, df_2, df_3, df_4, df_5, df_6 and df_ref\n",
    "resample_rate = \"10min\" #resample rate selector, values below 5 minutes are not recommended"
   ]
  },
  {
   "cell_type": "markdown",
   "id": "61b05974",
   "metadata": {},
   "source": [
    "#### Loading data\n",
    "\n",
    "Indoor, outdoor and target data is inner joined to ensure alignment"
   ]
  },
  {
   "cell_type": "code",
   "execution_count": 9,
   "id": "5d1db925",
   "metadata": {},
   "outputs": [
    {
     "data": {
      "text/html": [
       "<div>\n",
       "<style scoped>\n",
       "    .dataframe tbody tr th:only-of-type {\n",
       "        vertical-align: middle;\n",
       "    }\n",
       "\n",
       "    .dataframe tbody tr th {\n",
       "        vertical-align: top;\n",
       "    }\n",
       "\n",
       "    .dataframe thead th {\n",
       "        text-align: right;\n",
       "    }\n",
       "</style>\n",
       "<table border=\"1\" class=\"dataframe\">\n",
       "  <thead>\n",
       "    <tr style=\"text-align: right;\">\n",
       "      <th></th>\n",
       "      <th>Indoor CO2</th>\n",
       "      <th>Indoor Temperature</th>\n",
       "      <th>Indoor Humidity</th>\n",
       "      <th>Indoor PM10</th>\n",
       "      <th>Outdoor CO2</th>\n",
       "      <th>Outdoor Temperature</th>\n",
       "      <th>Outdoor Humidity</th>\n",
       "      <th>Outdoor PM10</th>\n",
       "      <th>People in a room</th>\n",
       "    </tr>\n",
       "    <tr>\n",
       "      <th>Timestamp</th>\n",
       "      <th></th>\n",
       "      <th></th>\n",
       "      <th></th>\n",
       "      <th></th>\n",
       "      <th></th>\n",
       "      <th></th>\n",
       "      <th></th>\n",
       "      <th></th>\n",
       "      <th></th>\n",
       "    </tr>\n",
       "  </thead>\n",
       "  <tbody>\n",
       "    <tr>\n",
       "      <th>2024-10-11 13:40:00</th>\n",
       "      <td>674.750000</td>\n",
       "      <td>22.817500</td>\n",
       "      <td>57.888750</td>\n",
       "      <td>1.000000</td>\n",
       "      <td>714.0</td>\n",
       "      <td>27.720</td>\n",
       "      <td>38.00</td>\n",
       "      <td>1.0</td>\n",
       "      <td>0.0</td>\n",
       "    </tr>\n",
       "    <tr>\n",
       "      <th>2024-10-11 13:50:00</th>\n",
       "      <td>724.800000</td>\n",
       "      <td>23.271000</td>\n",
       "      <td>58.454000</td>\n",
       "      <td>0.400000</td>\n",
       "      <td>720.0</td>\n",
       "      <td>27.850</td>\n",
       "      <td>37.50</td>\n",
       "      <td>1.0</td>\n",
       "      <td>0.0</td>\n",
       "    </tr>\n",
       "    <tr>\n",
       "      <th>2024-10-11 14:00:00</th>\n",
       "      <td>869.181818</td>\n",
       "      <td>23.920000</td>\n",
       "      <td>58.523636</td>\n",
       "      <td>0.454545</td>\n",
       "      <td>707.5</td>\n",
       "      <td>27.975</td>\n",
       "      <td>37.10</td>\n",
       "      <td>1.0</td>\n",
       "      <td>0.0</td>\n",
       "    </tr>\n",
       "    <tr>\n",
       "      <th>2024-10-11 14:10:00</th>\n",
       "      <td>1013.200000</td>\n",
       "      <td>24.347000</td>\n",
       "      <td>58.367000</td>\n",
       "      <td>0.300000</td>\n",
       "      <td>712.0</td>\n",
       "      <td>26.535</td>\n",
       "      <td>39.15</td>\n",
       "      <td>3.0</td>\n",
       "      <td>1.0</td>\n",
       "    </tr>\n",
       "    <tr>\n",
       "      <th>2024-10-11 14:20:00</th>\n",
       "      <td>1166.400000</td>\n",
       "      <td>24.608000</td>\n",
       "      <td>58.875000</td>\n",
       "      <td>0.700000</td>\n",
       "      <td>716.0</td>\n",
       "      <td>25.990</td>\n",
       "      <td>40.80</td>\n",
       "      <td>1.5</td>\n",
       "      <td>1.0</td>\n",
       "    </tr>\n",
       "    <tr>\n",
       "      <th>...</th>\n",
       "      <td>...</td>\n",
       "      <td>...</td>\n",
       "      <td>...</td>\n",
       "      <td>...</td>\n",
       "      <td>...</td>\n",
       "      <td>...</td>\n",
       "      <td>...</td>\n",
       "      <td>...</td>\n",
       "      <td>...</td>\n",
       "    </tr>\n",
       "    <tr>\n",
       "      <th>2024-10-31 10:40:00</th>\n",
       "      <td>820.400000</td>\n",
       "      <td>24.532000</td>\n",
       "      <td>54.657000</td>\n",
       "      <td>79.500000</td>\n",
       "      <td>NaN</td>\n",
       "      <td>NaN</td>\n",
       "      <td>NaN</td>\n",
       "      <td>NaN</td>\n",
       "      <td>1.0</td>\n",
       "    </tr>\n",
       "    <tr>\n",
       "      <th>2024-10-31 10:50:00</th>\n",
       "      <td>765.000000</td>\n",
       "      <td>24.537000</td>\n",
       "      <td>53.886000</td>\n",
       "      <td>74.700000</td>\n",
       "      <td>NaN</td>\n",
       "      <td>NaN</td>\n",
       "      <td>NaN</td>\n",
       "      <td>NaN</td>\n",
       "      <td>0.0</td>\n",
       "    </tr>\n",
       "    <tr>\n",
       "      <th>2024-10-31 11:00:00</th>\n",
       "      <td>743.300000</td>\n",
       "      <td>24.236000</td>\n",
       "      <td>52.985000</td>\n",
       "      <td>69.100000</td>\n",
       "      <td>NaN</td>\n",
       "      <td>NaN</td>\n",
       "      <td>NaN</td>\n",
       "      <td>NaN</td>\n",
       "      <td>1.0</td>\n",
       "    </tr>\n",
       "    <tr>\n",
       "      <th>2024-10-31 11:10:00</th>\n",
       "      <td>639.200000</td>\n",
       "      <td>23.872000</td>\n",
       "      <td>52.628000</td>\n",
       "      <td>53.600000</td>\n",
       "      <td>NaN</td>\n",
       "      <td>NaN</td>\n",
       "      <td>NaN</td>\n",
       "      <td>NaN</td>\n",
       "      <td>1.0</td>\n",
       "    </tr>\n",
       "    <tr>\n",
       "      <th>2024-10-31 11:20:00</th>\n",
       "      <td>729.857143</td>\n",
       "      <td>24.138571</td>\n",
       "      <td>54.047143</td>\n",
       "      <td>52.714286</td>\n",
       "      <td>NaN</td>\n",
       "      <td>NaN</td>\n",
       "      <td>NaN</td>\n",
       "      <td>NaN</td>\n",
       "      <td>1.0</td>\n",
       "    </tr>\n",
       "  </tbody>\n",
       "</table>\n",
       "<p>2867 rows × 9 columns</p>\n",
       "</div>"
      ],
      "text/plain": [
       "                      Indoor CO2  Indoor Temperature  Indoor Humidity  \\\n",
       "Timestamp                                                               \n",
       "2024-10-11 13:40:00   674.750000           22.817500        57.888750   \n",
       "2024-10-11 13:50:00   724.800000           23.271000        58.454000   \n",
       "2024-10-11 14:00:00   869.181818           23.920000        58.523636   \n",
       "2024-10-11 14:10:00  1013.200000           24.347000        58.367000   \n",
       "2024-10-11 14:20:00  1166.400000           24.608000        58.875000   \n",
       "...                          ...                 ...              ...   \n",
       "2024-10-31 10:40:00   820.400000           24.532000        54.657000   \n",
       "2024-10-31 10:50:00   765.000000           24.537000        53.886000   \n",
       "2024-10-31 11:00:00   743.300000           24.236000        52.985000   \n",
       "2024-10-31 11:10:00   639.200000           23.872000        52.628000   \n",
       "2024-10-31 11:20:00   729.857143           24.138571        54.047143   \n",
       "\n",
       "                     Indoor PM10  Outdoor CO2  Outdoor Temperature  \\\n",
       "Timestamp                                                            \n",
       "2024-10-11 13:40:00     1.000000        714.0               27.720   \n",
       "2024-10-11 13:50:00     0.400000        720.0               27.850   \n",
       "2024-10-11 14:00:00     0.454545        707.5               27.975   \n",
       "2024-10-11 14:10:00     0.300000        712.0               26.535   \n",
       "2024-10-11 14:20:00     0.700000        716.0               25.990   \n",
       "...                          ...          ...                  ...   \n",
       "2024-10-31 10:40:00    79.500000          NaN                  NaN   \n",
       "2024-10-31 10:50:00    74.700000          NaN                  NaN   \n",
       "2024-10-31 11:00:00    69.100000          NaN                  NaN   \n",
       "2024-10-31 11:10:00    53.600000          NaN                  NaN   \n",
       "2024-10-31 11:20:00    52.714286          NaN                  NaN   \n",
       "\n",
       "                     Outdoor Humidity  Outdoor PM10  People in a room  \n",
       "Timestamp                                                              \n",
       "2024-10-11 13:40:00             38.00           1.0               0.0  \n",
       "2024-10-11 13:50:00             37.50           1.0               0.0  \n",
       "2024-10-11 14:00:00             37.10           1.0               0.0  \n",
       "2024-10-11 14:10:00             39.15           3.0               1.0  \n",
       "2024-10-11 14:20:00             40.80           1.5               1.0  \n",
       "...                               ...           ...               ...  \n",
       "2024-10-31 10:40:00               NaN           NaN               1.0  \n",
       "2024-10-31 10:50:00               NaN           NaN               0.0  \n",
       "2024-10-31 11:00:00               NaN           NaN               1.0  \n",
       "2024-10-31 11:10:00               NaN           NaN               1.0  \n",
       "2024-10-31 11:20:00               NaN           NaN               1.0  \n",
       "\n",
       "[2867 rows x 9 columns]"
      ]
     },
     "execution_count": 9,
     "metadata": {},
     "output_type": "execute_result"
    }
   ],
   "source": [
    "dataset = indoor_data_load(sel_df, resample_rate) #load indoor data\n",
    "targets = target_load(resample_rate) #load target data\n",
    "outdoor_data = outdoor_data_load (resample_rate) #load outdoor data\n",
    "dataset = dataset.join(outdoor_data, how=\"inner\") #inner join of indoor and outdoor data\n",
    "dataset = dataset.join(targets, how=\"inner\") #inner join with target data\n",
    "dataset"
   ]
  },
  {
   "cell_type": "markdown",
   "id": "8702afc6",
   "metadata": {},
   "source": [
    "Rows with empty values are dropped to account for sensor downtime"
   ]
  },
  {
   "cell_type": "code",
   "execution_count": 10,
   "id": "df49c524",
   "metadata": {},
   "outputs": [
    {
     "data": {
      "text/html": [
       "<div>\n",
       "<style scoped>\n",
       "    .dataframe tbody tr th:only-of-type {\n",
       "        vertical-align: middle;\n",
       "    }\n",
       "\n",
       "    .dataframe tbody tr th {\n",
       "        vertical-align: top;\n",
       "    }\n",
       "\n",
       "    .dataframe thead th {\n",
       "        text-align: right;\n",
       "    }\n",
       "</style>\n",
       "<table border=\"1\" class=\"dataframe\">\n",
       "  <thead>\n",
       "    <tr style=\"text-align: right;\">\n",
       "      <th></th>\n",
       "      <th>Indoor CO2</th>\n",
       "      <th>Indoor Temperature</th>\n",
       "      <th>Indoor Humidity</th>\n",
       "      <th>Indoor PM10</th>\n",
       "      <th>Outdoor CO2</th>\n",
       "      <th>Outdoor Temperature</th>\n",
       "      <th>Outdoor Humidity</th>\n",
       "      <th>Outdoor PM10</th>\n",
       "      <th>People in a room</th>\n",
       "    </tr>\n",
       "    <tr>\n",
       "      <th>Timestamp</th>\n",
       "      <th></th>\n",
       "      <th></th>\n",
       "      <th></th>\n",
       "      <th></th>\n",
       "      <th></th>\n",
       "      <th></th>\n",
       "      <th></th>\n",
       "      <th></th>\n",
       "      <th></th>\n",
       "    </tr>\n",
       "  </thead>\n",
       "  <tbody>\n",
       "    <tr>\n",
       "      <th>2024-10-11 13:40:00</th>\n",
       "      <td>674.750000</td>\n",
       "      <td>22.8175</td>\n",
       "      <td>57.888750</td>\n",
       "      <td>1.000000</td>\n",
       "      <td>714.0</td>\n",
       "      <td>27.720</td>\n",
       "      <td>38.00</td>\n",
       "      <td>1.0</td>\n",
       "      <td>0.0</td>\n",
       "    </tr>\n",
       "    <tr>\n",
       "      <th>2024-10-11 13:50:00</th>\n",
       "      <td>724.800000</td>\n",
       "      <td>23.2710</td>\n",
       "      <td>58.454000</td>\n",
       "      <td>0.400000</td>\n",
       "      <td>720.0</td>\n",
       "      <td>27.850</td>\n",
       "      <td>37.50</td>\n",
       "      <td>1.0</td>\n",
       "      <td>0.0</td>\n",
       "    </tr>\n",
       "    <tr>\n",
       "      <th>2024-10-11 14:00:00</th>\n",
       "      <td>869.181818</td>\n",
       "      <td>23.9200</td>\n",
       "      <td>58.523636</td>\n",
       "      <td>0.454545</td>\n",
       "      <td>707.5</td>\n",
       "      <td>27.975</td>\n",
       "      <td>37.10</td>\n",
       "      <td>1.0</td>\n",
       "      <td>0.0</td>\n",
       "    </tr>\n",
       "    <tr>\n",
       "      <th>2024-10-11 14:10:00</th>\n",
       "      <td>1013.200000</td>\n",
       "      <td>24.3470</td>\n",
       "      <td>58.367000</td>\n",
       "      <td>0.300000</td>\n",
       "      <td>712.0</td>\n",
       "      <td>26.535</td>\n",
       "      <td>39.15</td>\n",
       "      <td>3.0</td>\n",
       "      <td>1.0</td>\n",
       "    </tr>\n",
       "    <tr>\n",
       "      <th>2024-10-11 14:20:00</th>\n",
       "      <td>1166.400000</td>\n",
       "      <td>24.6080</td>\n",
       "      <td>58.875000</td>\n",
       "      <td>0.700000</td>\n",
       "      <td>716.0</td>\n",
       "      <td>25.990</td>\n",
       "      <td>40.80</td>\n",
       "      <td>1.5</td>\n",
       "      <td>1.0</td>\n",
       "    </tr>\n",
       "    <tr>\n",
       "      <th>...</th>\n",
       "      <td>...</td>\n",
       "      <td>...</td>\n",
       "      <td>...</td>\n",
       "      <td>...</td>\n",
       "      <td>...</td>\n",
       "      <td>...</td>\n",
       "      <td>...</td>\n",
       "      <td>...</td>\n",
       "      <td>...</td>\n",
       "    </tr>\n",
       "    <tr>\n",
       "      <th>2024-10-29 23:10:00</th>\n",
       "      <td>1195.100000</td>\n",
       "      <td>23.9350</td>\n",
       "      <td>61.532000</td>\n",
       "      <td>138.800000</td>\n",
       "      <td>1008.5</td>\n",
       "      <td>13.780</td>\n",
       "      <td>74.10</td>\n",
       "      <td>28.5</td>\n",
       "      <td>0.0</td>\n",
       "    </tr>\n",
       "    <tr>\n",
       "      <th>2024-10-29 23:20:00</th>\n",
       "      <td>1216.800000</td>\n",
       "      <td>23.9070</td>\n",
       "      <td>61.718000</td>\n",
       "      <td>143.400000</td>\n",
       "      <td>1001.5</td>\n",
       "      <td>13.475</td>\n",
       "      <td>73.80</td>\n",
       "      <td>28.0</td>\n",
       "      <td>0.0</td>\n",
       "    </tr>\n",
       "    <tr>\n",
       "      <th>2024-10-29 23:30:00</th>\n",
       "      <td>1230.200000</td>\n",
       "      <td>23.8840</td>\n",
       "      <td>61.814000</td>\n",
       "      <td>146.800000</td>\n",
       "      <td>1046.0</td>\n",
       "      <td>13.430</td>\n",
       "      <td>72.90</td>\n",
       "      <td>24.5</td>\n",
       "      <td>0.0</td>\n",
       "    </tr>\n",
       "    <tr>\n",
       "      <th>2024-10-29 23:40:00</th>\n",
       "      <td>1248.700000</td>\n",
       "      <td>23.8690</td>\n",
       "      <td>62.067000</td>\n",
       "      <td>150.800000</td>\n",
       "      <td>1024.5</td>\n",
       "      <td>13.325</td>\n",
       "      <td>74.00</td>\n",
       "      <td>32.0</td>\n",
       "      <td>0.0</td>\n",
       "    </tr>\n",
       "    <tr>\n",
       "      <th>2024-10-29 23:50:00</th>\n",
       "      <td>1266.800000</td>\n",
       "      <td>23.8530</td>\n",
       "      <td>62.285000</td>\n",
       "      <td>155.800000</td>\n",
       "      <td>1031.5</td>\n",
       "      <td>13.340</td>\n",
       "      <td>74.55</td>\n",
       "      <td>32.5</td>\n",
       "      <td>0.0</td>\n",
       "    </tr>\n",
       "  </tbody>\n",
       "</table>\n",
       "<p>2647 rows × 9 columns</p>\n",
       "</div>"
      ],
      "text/plain": [
       "                      Indoor CO2  Indoor Temperature  Indoor Humidity  \\\n",
       "Timestamp                                                               \n",
       "2024-10-11 13:40:00   674.750000             22.8175        57.888750   \n",
       "2024-10-11 13:50:00   724.800000             23.2710        58.454000   \n",
       "2024-10-11 14:00:00   869.181818             23.9200        58.523636   \n",
       "2024-10-11 14:10:00  1013.200000             24.3470        58.367000   \n",
       "2024-10-11 14:20:00  1166.400000             24.6080        58.875000   \n",
       "...                          ...                 ...              ...   \n",
       "2024-10-29 23:10:00  1195.100000             23.9350        61.532000   \n",
       "2024-10-29 23:20:00  1216.800000             23.9070        61.718000   \n",
       "2024-10-29 23:30:00  1230.200000             23.8840        61.814000   \n",
       "2024-10-29 23:40:00  1248.700000             23.8690        62.067000   \n",
       "2024-10-29 23:50:00  1266.800000             23.8530        62.285000   \n",
       "\n",
       "                     Indoor PM10  Outdoor CO2  Outdoor Temperature  \\\n",
       "Timestamp                                                            \n",
       "2024-10-11 13:40:00     1.000000        714.0               27.720   \n",
       "2024-10-11 13:50:00     0.400000        720.0               27.850   \n",
       "2024-10-11 14:00:00     0.454545        707.5               27.975   \n",
       "2024-10-11 14:10:00     0.300000        712.0               26.535   \n",
       "2024-10-11 14:20:00     0.700000        716.0               25.990   \n",
       "...                          ...          ...                  ...   \n",
       "2024-10-29 23:10:00   138.800000       1008.5               13.780   \n",
       "2024-10-29 23:20:00   143.400000       1001.5               13.475   \n",
       "2024-10-29 23:30:00   146.800000       1046.0               13.430   \n",
       "2024-10-29 23:40:00   150.800000       1024.5               13.325   \n",
       "2024-10-29 23:50:00   155.800000       1031.5               13.340   \n",
       "\n",
       "                     Outdoor Humidity  Outdoor PM10  People in a room  \n",
       "Timestamp                                                              \n",
       "2024-10-11 13:40:00             38.00           1.0               0.0  \n",
       "2024-10-11 13:50:00             37.50           1.0               0.0  \n",
       "2024-10-11 14:00:00             37.10           1.0               0.0  \n",
       "2024-10-11 14:10:00             39.15           3.0               1.0  \n",
       "2024-10-11 14:20:00             40.80           1.5               1.0  \n",
       "...                               ...           ...               ...  \n",
       "2024-10-29 23:10:00             74.10          28.5               0.0  \n",
       "2024-10-29 23:20:00             73.80          28.0               0.0  \n",
       "2024-10-29 23:30:00             72.90          24.5               0.0  \n",
       "2024-10-29 23:40:00             74.00          32.0               0.0  \n",
       "2024-10-29 23:50:00             74.55          32.5               0.0  \n",
       "\n",
       "[2647 rows x 9 columns]"
      ]
     },
     "execution_count": 10,
     "metadata": {},
     "output_type": "execute_result"
    }
   ],
   "source": [
    "dataset = dataset.dropna() #drops rows with null values\n",
    "dataset"
   ]
  },
  {
   "cell_type": "markdown",
   "id": "2e3a5dab",
   "metadata": {},
   "source": [
    "Alligned features and parameters are extracted"
   ]
  },
  {
   "cell_type": "code",
   "execution_count": 11,
   "id": "59bf595a",
   "metadata": {},
   "outputs": [],
   "source": [
    "x = dataset.iloc[:, :-1] #set all but last column as features\n",
    "y = dataset.iloc[:, -1] #set last column as target"
   ]
  },
  {
   "cell_type": "code",
   "execution_count": 12,
   "id": "97fcb55d",
   "metadata": {},
   "outputs": [
    {
     "data": {
      "text/html": [
       "<div>\n",
       "<style scoped>\n",
       "    .dataframe tbody tr th:only-of-type {\n",
       "        vertical-align: middle;\n",
       "    }\n",
       "\n",
       "    .dataframe tbody tr th {\n",
       "        vertical-align: top;\n",
       "    }\n",
       "\n",
       "    .dataframe thead th {\n",
       "        text-align: right;\n",
       "    }\n",
       "</style>\n",
       "<table border=\"1\" class=\"dataframe\">\n",
       "  <thead>\n",
       "    <tr style=\"text-align: right;\">\n",
       "      <th></th>\n",
       "      <th>Indoor CO2</th>\n",
       "      <th>Indoor Temperature</th>\n",
       "      <th>Indoor Humidity</th>\n",
       "      <th>Indoor PM10</th>\n",
       "      <th>Outdoor CO2</th>\n",
       "      <th>Outdoor Temperature</th>\n",
       "      <th>Outdoor Humidity</th>\n",
       "      <th>Outdoor PM10</th>\n",
       "    </tr>\n",
       "    <tr>\n",
       "      <th>Timestamp</th>\n",
       "      <th></th>\n",
       "      <th></th>\n",
       "      <th></th>\n",
       "      <th></th>\n",
       "      <th></th>\n",
       "      <th></th>\n",
       "      <th></th>\n",
       "      <th></th>\n",
       "    </tr>\n",
       "  </thead>\n",
       "  <tbody>\n",
       "    <tr>\n",
       "      <th>2024-10-11 13:40:00</th>\n",
       "      <td>674.750000</td>\n",
       "      <td>22.8175</td>\n",
       "      <td>57.888750</td>\n",
       "      <td>1.000000</td>\n",
       "      <td>714.0</td>\n",
       "      <td>27.720</td>\n",
       "      <td>38.00</td>\n",
       "      <td>1.0</td>\n",
       "    </tr>\n",
       "    <tr>\n",
       "      <th>2024-10-11 13:50:00</th>\n",
       "      <td>724.800000</td>\n",
       "      <td>23.2710</td>\n",
       "      <td>58.454000</td>\n",
       "      <td>0.400000</td>\n",
       "      <td>720.0</td>\n",
       "      <td>27.850</td>\n",
       "      <td>37.50</td>\n",
       "      <td>1.0</td>\n",
       "    </tr>\n",
       "    <tr>\n",
       "      <th>2024-10-11 14:00:00</th>\n",
       "      <td>869.181818</td>\n",
       "      <td>23.9200</td>\n",
       "      <td>58.523636</td>\n",
       "      <td>0.454545</td>\n",
       "      <td>707.5</td>\n",
       "      <td>27.975</td>\n",
       "      <td>37.10</td>\n",
       "      <td>1.0</td>\n",
       "    </tr>\n",
       "    <tr>\n",
       "      <th>2024-10-11 14:10:00</th>\n",
       "      <td>1013.200000</td>\n",
       "      <td>24.3470</td>\n",
       "      <td>58.367000</td>\n",
       "      <td>0.300000</td>\n",
       "      <td>712.0</td>\n",
       "      <td>26.535</td>\n",
       "      <td>39.15</td>\n",
       "      <td>3.0</td>\n",
       "    </tr>\n",
       "    <tr>\n",
       "      <th>2024-10-11 14:20:00</th>\n",
       "      <td>1166.400000</td>\n",
       "      <td>24.6080</td>\n",
       "      <td>58.875000</td>\n",
       "      <td>0.700000</td>\n",
       "      <td>716.0</td>\n",
       "      <td>25.990</td>\n",
       "      <td>40.80</td>\n",
       "      <td>1.5</td>\n",
       "    </tr>\n",
       "    <tr>\n",
       "      <th>...</th>\n",
       "      <td>...</td>\n",
       "      <td>...</td>\n",
       "      <td>...</td>\n",
       "      <td>...</td>\n",
       "      <td>...</td>\n",
       "      <td>...</td>\n",
       "      <td>...</td>\n",
       "      <td>...</td>\n",
       "    </tr>\n",
       "    <tr>\n",
       "      <th>2024-10-29 23:10:00</th>\n",
       "      <td>1195.100000</td>\n",
       "      <td>23.9350</td>\n",
       "      <td>61.532000</td>\n",
       "      <td>138.800000</td>\n",
       "      <td>1008.5</td>\n",
       "      <td>13.780</td>\n",
       "      <td>74.10</td>\n",
       "      <td>28.5</td>\n",
       "    </tr>\n",
       "    <tr>\n",
       "      <th>2024-10-29 23:20:00</th>\n",
       "      <td>1216.800000</td>\n",
       "      <td>23.9070</td>\n",
       "      <td>61.718000</td>\n",
       "      <td>143.400000</td>\n",
       "      <td>1001.5</td>\n",
       "      <td>13.475</td>\n",
       "      <td>73.80</td>\n",
       "      <td>28.0</td>\n",
       "    </tr>\n",
       "    <tr>\n",
       "      <th>2024-10-29 23:30:00</th>\n",
       "      <td>1230.200000</td>\n",
       "      <td>23.8840</td>\n",
       "      <td>61.814000</td>\n",
       "      <td>146.800000</td>\n",
       "      <td>1046.0</td>\n",
       "      <td>13.430</td>\n",
       "      <td>72.90</td>\n",
       "      <td>24.5</td>\n",
       "    </tr>\n",
       "    <tr>\n",
       "      <th>2024-10-29 23:40:00</th>\n",
       "      <td>1248.700000</td>\n",
       "      <td>23.8690</td>\n",
       "      <td>62.067000</td>\n",
       "      <td>150.800000</td>\n",
       "      <td>1024.5</td>\n",
       "      <td>13.325</td>\n",
       "      <td>74.00</td>\n",
       "      <td>32.0</td>\n",
       "    </tr>\n",
       "    <tr>\n",
       "      <th>2024-10-29 23:50:00</th>\n",
       "      <td>1266.800000</td>\n",
       "      <td>23.8530</td>\n",
       "      <td>62.285000</td>\n",
       "      <td>155.800000</td>\n",
       "      <td>1031.5</td>\n",
       "      <td>13.340</td>\n",
       "      <td>74.55</td>\n",
       "      <td>32.5</td>\n",
       "    </tr>\n",
       "  </tbody>\n",
       "</table>\n",
       "<p>2647 rows × 8 columns</p>\n",
       "</div>"
      ],
      "text/plain": [
       "                      Indoor CO2  Indoor Temperature  Indoor Humidity  \\\n",
       "Timestamp                                                               \n",
       "2024-10-11 13:40:00   674.750000             22.8175        57.888750   \n",
       "2024-10-11 13:50:00   724.800000             23.2710        58.454000   \n",
       "2024-10-11 14:00:00   869.181818             23.9200        58.523636   \n",
       "2024-10-11 14:10:00  1013.200000             24.3470        58.367000   \n",
       "2024-10-11 14:20:00  1166.400000             24.6080        58.875000   \n",
       "...                          ...                 ...              ...   \n",
       "2024-10-29 23:10:00  1195.100000             23.9350        61.532000   \n",
       "2024-10-29 23:20:00  1216.800000             23.9070        61.718000   \n",
       "2024-10-29 23:30:00  1230.200000             23.8840        61.814000   \n",
       "2024-10-29 23:40:00  1248.700000             23.8690        62.067000   \n",
       "2024-10-29 23:50:00  1266.800000             23.8530        62.285000   \n",
       "\n",
       "                     Indoor PM10  Outdoor CO2  Outdoor Temperature  \\\n",
       "Timestamp                                                            \n",
       "2024-10-11 13:40:00     1.000000        714.0               27.720   \n",
       "2024-10-11 13:50:00     0.400000        720.0               27.850   \n",
       "2024-10-11 14:00:00     0.454545        707.5               27.975   \n",
       "2024-10-11 14:10:00     0.300000        712.0               26.535   \n",
       "2024-10-11 14:20:00     0.700000        716.0               25.990   \n",
       "...                          ...          ...                  ...   \n",
       "2024-10-29 23:10:00   138.800000       1008.5               13.780   \n",
       "2024-10-29 23:20:00   143.400000       1001.5               13.475   \n",
       "2024-10-29 23:30:00   146.800000       1046.0               13.430   \n",
       "2024-10-29 23:40:00   150.800000       1024.5               13.325   \n",
       "2024-10-29 23:50:00   155.800000       1031.5               13.340   \n",
       "\n",
       "                     Outdoor Humidity  Outdoor PM10  \n",
       "Timestamp                                            \n",
       "2024-10-11 13:40:00             38.00           1.0  \n",
       "2024-10-11 13:50:00             37.50           1.0  \n",
       "2024-10-11 14:00:00             37.10           1.0  \n",
       "2024-10-11 14:10:00             39.15           3.0  \n",
       "2024-10-11 14:20:00             40.80           1.5  \n",
       "...                               ...           ...  \n",
       "2024-10-29 23:10:00             74.10          28.5  \n",
       "2024-10-29 23:20:00             73.80          28.0  \n",
       "2024-10-29 23:30:00             72.90          24.5  \n",
       "2024-10-29 23:40:00             74.00          32.0  \n",
       "2024-10-29 23:50:00             74.55          32.5  \n",
       "\n",
       "[2647 rows x 8 columns]"
      ]
     },
     "execution_count": 12,
     "metadata": {},
     "output_type": "execute_result"
    }
   ],
   "source": [
    "x"
   ]
  },
  {
   "cell_type": "code",
   "execution_count": 13,
   "id": "81fafb10",
   "metadata": {},
   "outputs": [
    {
     "data": {
      "text/plain": [
       "Timestamp\n",
       "2024-10-11 13:40:00    0.0\n",
       "2024-10-11 13:50:00    0.0\n",
       "2024-10-11 14:00:00    0.0\n",
       "2024-10-11 14:10:00    1.0\n",
       "2024-10-11 14:20:00    1.0\n",
       "                      ... \n",
       "2024-10-29 23:10:00    0.0\n",
       "2024-10-29 23:20:00    0.0\n",
       "2024-10-29 23:30:00    0.0\n",
       "2024-10-29 23:40:00    0.0\n",
       "2024-10-29 23:50:00    0.0\n",
       "Name: People in a room, Length: 2647, dtype: float64"
      ]
     },
     "execution_count": 13,
     "metadata": {},
     "output_type": "execute_result"
    }
   ],
   "source": [
    "y"
   ]
  },
  {
   "cell_type": "markdown",
   "id": "a7cea0de",
   "metadata": {},
   "source": [
    "Dataset is split into training and test sets"
   ]
  },
  {
   "cell_type": "code",
   "execution_count": 14,
   "id": "729642d5",
   "metadata": {},
   "outputs": [],
   "source": [
    "from sklearn.model_selection import train_test_split\n",
    "x_train, x_test, y_train, y_test = train_test_split(x, y, test_size=0.20, stratify=y, random_state=42) #split train and test sets at ratio of 80-20"
   ]
  },
  {
   "cell_type": "markdown",
   "id": "79973aba",
   "metadata": {},
   "source": [
    "Features are rescaled using the standard scaler"
   ]
  },
  {
   "cell_type": "code",
   "execution_count": 15,
   "id": "c57cff92",
   "metadata": {},
   "outputs": [
    {
     "data": {
      "text/plain": [
       "array([[ 1.89281314,  0.33427559,  0.83205891, ..., -0.03783704,\n",
       "         0.42633843,  1.72712422],\n",
       "       [ 0.11085314, -0.76497459, -0.69472691, ..., -2.07974906,\n",
       "         0.91709027,  0.26433855],\n",
       "       [-1.04136071, -0.51974627, -1.72635706, ...,  0.65836582,\n",
       "        -1.1616228 , -0.44921543],\n",
       "       ...,\n",
       "       [-0.67127943,  0.22877039, -1.35180764, ..., -0.22780702,\n",
       "        -0.71076948, -1.02005862],\n",
       "       [-0.63264349,  0.48683042,  1.67406923, ...,  1.15929226,\n",
       "        -0.45940879, -0.30650464],\n",
       "       [ 0.30756301, -0.24885453, -0.26746809, ..., -0.72979475,\n",
       "         0.80936426, -0.59192623]])"
      ]
     },
     "execution_count": 15,
     "metadata": {},
     "output_type": "execute_result"
    }
   ],
   "source": [
    "from sklearn.preprocessing import StandardScaler \n",
    "sc = StandardScaler() #instancing a scaler\n",
    "x_train = sc.fit_transform(x_train) #fitting a scaler and transforming train data\n",
    "x_test = sc.transform(x_test) #transforming test data with scaler\n",
    "x_test"
   ]
  },
  {
   "cell_type": "markdown",
   "id": "13d20b54",
   "metadata": {},
   "source": [
    "### Random forest classifier"
   ]
  },
  {
   "cell_type": "markdown",
   "id": "933ceacc",
   "metadata": {},
   "source": [
    "This classifier uses a random forest model with 15 estimators and a max depth of 4"
   ]
  },
  {
   "cell_type": "code",
   "execution_count": 16,
   "id": "43b3d38d",
   "metadata": {},
   "outputs": [
    {
     "data": {
      "text/html": [
       "<div>\n",
       "<style scoped>\n",
       "    .dataframe tbody tr th:only-of-type {\n",
       "        vertical-align: middle;\n",
       "    }\n",
       "\n",
       "    .dataframe tbody tr th {\n",
       "        vertical-align: top;\n",
       "    }\n",
       "\n",
       "    .dataframe thead th {\n",
       "        text-align: right;\n",
       "    }\n",
       "</style>\n",
       "<table border=\"1\" class=\"dataframe\">\n",
       "  <thead>\n",
       "    <tr style=\"text-align: right;\">\n",
       "      <th></th>\n",
       "      <th>People in a room</th>\n",
       "      <th>Prediction</th>\n",
       "    </tr>\n",
       "    <tr>\n",
       "      <th>Timestamp</th>\n",
       "      <th></th>\n",
       "      <th></th>\n",
       "    </tr>\n",
       "  </thead>\n",
       "  <tbody>\n",
       "    <tr>\n",
       "      <th>2024-10-24 20:10:00</th>\n",
       "      <td>0.0</td>\n",
       "      <td>0.0</td>\n",
       "    </tr>\n",
       "    <tr>\n",
       "      <th>2024-10-21 07:30:00</th>\n",
       "      <td>0.0</td>\n",
       "      <td>0.0</td>\n",
       "    </tr>\n",
       "    <tr>\n",
       "      <th>2024-10-19 15:50:00</th>\n",
       "      <td>0.0</td>\n",
       "      <td>1.0</td>\n",
       "    </tr>\n",
       "    <tr>\n",
       "      <th>2024-10-12 05:40:00</th>\n",
       "      <td>0.0</td>\n",
       "      <td>0.0</td>\n",
       "    </tr>\n",
       "    <tr>\n",
       "      <th>2024-10-16 14:50:00</th>\n",
       "      <td>0.0</td>\n",
       "      <td>1.0</td>\n",
       "    </tr>\n",
       "    <tr>\n",
       "      <th>...</th>\n",
       "      <td>...</td>\n",
       "      <td>...</td>\n",
       "    </tr>\n",
       "    <tr>\n",
       "      <th>2024-10-19 04:20:00</th>\n",
       "      <td>0.0</td>\n",
       "      <td>0.0</td>\n",
       "    </tr>\n",
       "    <tr>\n",
       "      <th>2024-10-17 15:10:00</th>\n",
       "      <td>0.0</td>\n",
       "      <td>0.0</td>\n",
       "    </tr>\n",
       "    <tr>\n",
       "      <th>2024-10-15 23:40:00</th>\n",
       "      <td>0.0</td>\n",
       "      <td>0.0</td>\n",
       "    </tr>\n",
       "    <tr>\n",
       "      <th>2024-10-26 17:10:00</th>\n",
       "      <td>0.0</td>\n",
       "      <td>0.0</td>\n",
       "    </tr>\n",
       "    <tr>\n",
       "      <th>2024-10-17 10:40:00</th>\n",
       "      <td>0.0</td>\n",
       "      <td>0.0</td>\n",
       "    </tr>\n",
       "  </tbody>\n",
       "</table>\n",
       "<p>530 rows × 2 columns</p>\n",
       "</div>"
      ],
      "text/plain": [
       "                     People in a room  Prediction\n",
       "Timestamp                                        \n",
       "2024-10-24 20:10:00               0.0         0.0\n",
       "2024-10-21 07:30:00               0.0         0.0\n",
       "2024-10-19 15:50:00               0.0         1.0\n",
       "2024-10-12 05:40:00               0.0         0.0\n",
       "2024-10-16 14:50:00               0.0         1.0\n",
       "...                               ...         ...\n",
       "2024-10-19 04:20:00               0.0         0.0\n",
       "2024-10-17 15:10:00               0.0         0.0\n",
       "2024-10-15 23:40:00               0.0         0.0\n",
       "2024-10-26 17:10:00               0.0         0.0\n",
       "2024-10-17 10:40:00               0.0         0.0\n",
       "\n",
       "[530 rows x 2 columns]"
      ]
     },
     "execution_count": 16,
     "metadata": {},
     "output_type": "execute_result"
    }
   ],
   "source": [
    "from sklearn.ensemble import RandomForestClassifier\n",
    "#instancing a random forest classifier with 15 estimators and max depth of 4\n",
    "rf_classifier = RandomForestClassifier(n_estimators = 15, max_depth = 4, criterion = 'entropy', random_state = 42, class_weight=\"balanced\", min_samples_split=6)\n",
    "rf_classifier.fit(x_train, y_train) #fitting the model to train data\n",
    "rf_y_predict = rf_classifier.predict(x_test) #predicting test targets\n",
    "rf_y_predict = pd.Series(rf_y_predict, name='Prediction', index=y_test.index) \n",
    "rf_results = pd.concat([y_test, rf_y_predict], axis=1) #setting targets and prediction for visual comparison\n",
    "rf_results"
   ]
  },
  {
   "cell_type": "markdown",
   "id": "de7d5d80",
   "metadata": {},
   "source": [
    "Model confusion matrix"
   ]
  },
  {
   "cell_type": "code",
   "execution_count": 17,
   "id": "f31efdac",
   "metadata": {},
   "outputs": [
    {
     "name": "stdout",
     "output_type": "stream",
     "text": [
      "[[459  52]\n",
      " [  9  10]]\n"
     ]
    }
   ],
   "source": [
    "from sklearn.metrics import confusion_matrix, accuracy_score\n",
    "rf_cm = confusion_matrix(y_test, rf_y_predict) #confusion matrix using test data\n",
    "print(rf_cm)"
   ]
  },
  {
   "cell_type": "markdown",
   "id": "e732211f",
   "metadata": {},
   "source": [
    "Training accuracy score for random forest classifier"
   ]
  },
  {
   "cell_type": "code",
   "execution_count": 18,
   "id": "9f5a62ad",
   "metadata": {},
   "outputs": [
    {
     "data": {
      "text/plain": [
       "90.93056211620217"
      ]
     },
     "execution_count": 18,
     "metadata": {},
     "output_type": "execute_result"
    }
   ],
   "source": [
    "accuracy_score(y_train, rf_classifier.predict(x_train))*100"
   ]
  },
  {
   "cell_type": "markdown",
   "id": "ec2c7ac8",
   "metadata": {},
   "source": [
    "Test accuracy score for random forest classifier"
   ]
  },
  {
   "cell_type": "code",
   "execution_count": 19,
   "id": "ebe9fd5a",
   "metadata": {},
   "outputs": [
    {
     "data": {
      "text/plain": [
       "88.49056603773585"
      ]
     },
     "execution_count": 19,
     "metadata": {},
     "output_type": "execute_result"
    }
   ],
   "source": [
    "accuracy_score(y_test, rf_y_predict)*100"
   ]
  },
  {
   "cell_type": "markdown",
   "id": "429c1923",
   "metadata": {},
   "source": [
    "### Logistic regression classifier"
   ]
  },
  {
   "cell_type": "markdown",
   "id": "aac4753e",
   "metadata": {},
   "source": [
    "This classifier uses a logistic regression model"
   ]
  },
  {
   "cell_type": "code",
   "execution_count": 20,
   "id": "cfd37bda",
   "metadata": {},
   "outputs": [
    {
     "data": {
      "text/html": [
       "<div>\n",
       "<style scoped>\n",
       "    .dataframe tbody tr th:only-of-type {\n",
       "        vertical-align: middle;\n",
       "    }\n",
       "\n",
       "    .dataframe tbody tr th {\n",
       "        vertical-align: top;\n",
       "    }\n",
       "\n",
       "    .dataframe thead th {\n",
       "        text-align: right;\n",
       "    }\n",
       "</style>\n",
       "<table border=\"1\" class=\"dataframe\">\n",
       "  <thead>\n",
       "    <tr style=\"text-align: right;\">\n",
       "      <th></th>\n",
       "      <th>People in a room</th>\n",
       "      <th>Prediction</th>\n",
       "    </tr>\n",
       "    <tr>\n",
       "      <th>Timestamp</th>\n",
       "      <th></th>\n",
       "      <th></th>\n",
       "    </tr>\n",
       "  </thead>\n",
       "  <tbody>\n",
       "    <tr>\n",
       "      <th>2024-10-24 20:10:00</th>\n",
       "      <td>0.0</td>\n",
       "      <td>0.0</td>\n",
       "    </tr>\n",
       "    <tr>\n",
       "      <th>2024-10-21 07:30:00</th>\n",
       "      <td>0.0</td>\n",
       "      <td>0.0</td>\n",
       "    </tr>\n",
       "    <tr>\n",
       "      <th>2024-10-19 15:50:00</th>\n",
       "      <td>0.0</td>\n",
       "      <td>0.0</td>\n",
       "    </tr>\n",
       "    <tr>\n",
       "      <th>2024-10-12 05:40:00</th>\n",
       "      <td>0.0</td>\n",
       "      <td>0.0</td>\n",
       "    </tr>\n",
       "    <tr>\n",
       "      <th>2024-10-16 14:50:00</th>\n",
       "      <td>0.0</td>\n",
       "      <td>0.0</td>\n",
       "    </tr>\n",
       "    <tr>\n",
       "      <th>...</th>\n",
       "      <td>...</td>\n",
       "      <td>...</td>\n",
       "    </tr>\n",
       "    <tr>\n",
       "      <th>2024-10-19 04:20:00</th>\n",
       "      <td>0.0</td>\n",
       "      <td>0.0</td>\n",
       "    </tr>\n",
       "    <tr>\n",
       "      <th>2024-10-17 15:10:00</th>\n",
       "      <td>0.0</td>\n",
       "      <td>0.0</td>\n",
       "    </tr>\n",
       "    <tr>\n",
       "      <th>2024-10-15 23:40:00</th>\n",
       "      <td>0.0</td>\n",
       "      <td>0.0</td>\n",
       "    </tr>\n",
       "    <tr>\n",
       "      <th>2024-10-26 17:10:00</th>\n",
       "      <td>0.0</td>\n",
       "      <td>0.0</td>\n",
       "    </tr>\n",
       "    <tr>\n",
       "      <th>2024-10-17 10:40:00</th>\n",
       "      <td>0.0</td>\n",
       "      <td>0.0</td>\n",
       "    </tr>\n",
       "  </tbody>\n",
       "</table>\n",
       "<p>530 rows × 2 columns</p>\n",
       "</div>"
      ],
      "text/plain": [
       "                     People in a room  Prediction\n",
       "Timestamp                                        \n",
       "2024-10-24 20:10:00               0.0         0.0\n",
       "2024-10-21 07:30:00               0.0         0.0\n",
       "2024-10-19 15:50:00               0.0         0.0\n",
       "2024-10-12 05:40:00               0.0         0.0\n",
       "2024-10-16 14:50:00               0.0         0.0\n",
       "...                               ...         ...\n",
       "2024-10-19 04:20:00               0.0         0.0\n",
       "2024-10-17 15:10:00               0.0         0.0\n",
       "2024-10-15 23:40:00               0.0         0.0\n",
       "2024-10-26 17:10:00               0.0         0.0\n",
       "2024-10-17 10:40:00               0.0         0.0\n",
       "\n",
       "[530 rows x 2 columns]"
      ]
     },
     "execution_count": 20,
     "metadata": {},
     "output_type": "execute_result"
    }
   ],
   "source": [
    "from sklearn.linear_model import LogisticRegression\n",
    "#instancing a logistic regression model instance\n",
    "lr_classifier = LogisticRegression(random_state = 0, penalty=\"elasticnet\", solver=\"saga\", l1_ratio=0.001, max_iter=1000)\n",
    "lr_classifier.fit(x_train, y_train) #fitting the model to data\n",
    "lr_y_predict = lr_classifier.predict(x_test) #predicting test data\n",
    "lr_y_predict = pd.Series(lr_y_predict, name='Prediction', index=y_test.index)\n",
    "lr_results = pd.concat([y_test, lr_y_predict], axis=1) #comparing test targets and predictions\n",
    "lr_results"
   ]
  },
  {
   "cell_type": "markdown",
   "id": "0fe1fd63",
   "metadata": {},
   "source": [
    "Confusion matric for logistic regression classifier"
   ]
  },
  {
   "cell_type": "code",
   "execution_count": 21,
   "id": "63a29438",
   "metadata": {},
   "outputs": [
    {
     "name": "stdout",
     "output_type": "stream",
     "text": [
      "[[511   0]\n",
      " [ 19   0]]\n"
     ]
    }
   ],
   "source": [
    "lr_cm = confusion_matrix(y_test, lr_y_predict) #calculate confusion matrix on test data\n",
    "print(lr_cm)"
   ]
  },
  {
   "cell_type": "markdown",
   "id": "5b5fb1d7",
   "metadata": {},
   "source": [
    "Training accuracy score for logistic regression classifier"
   ]
  },
  {
   "cell_type": "code",
   "execution_count": 22,
   "id": "22b63d62",
   "metadata": {},
   "outputs": [
    {
     "data": {
      "text/plain": [
       "96.36277751535192"
      ]
     },
     "execution_count": 22,
     "metadata": {},
     "output_type": "execute_result"
    }
   ],
   "source": [
    "accuracy_score(y_train, lr_classifier.predict(x_train))*100"
   ]
  },
  {
   "cell_type": "markdown",
   "id": "84da7ea5",
   "metadata": {},
   "source": [
    "Test accuracy score for logistic regression classifier"
   ]
  },
  {
   "cell_type": "code",
   "execution_count": 23,
   "id": "fbedc3b7",
   "metadata": {},
   "outputs": [
    {
     "data": {
      "text/plain": [
       "96.41509433962264"
      ]
     },
     "execution_count": 23,
     "metadata": {},
     "output_type": "execute_result"
    }
   ],
   "source": [
    "accuracy_score(y_test, lr_y_predict)*100"
   ]
  },
  {
   "cell_type": "markdown",
   "id": "dccb55ae",
   "metadata": {},
   "source": [
    "### Neural network classifier"
   ]
  },
  {
   "cell_type": "markdown",
   "id": "0473e0c2",
   "metadata": {},
   "source": [
    "This classifier uses a single layer neural network with 4 neurons"
   ]
  },
  {
   "cell_type": "code",
   "execution_count": 24,
   "id": "7f93485b",
   "metadata": {},
   "outputs": [
    {
     "data": {
      "text/html": [
       "<div>\n",
       "<style scoped>\n",
       "    .dataframe tbody tr th:only-of-type {\n",
       "        vertical-align: middle;\n",
       "    }\n",
       "\n",
       "    .dataframe tbody tr th {\n",
       "        vertical-align: top;\n",
       "    }\n",
       "\n",
       "    .dataframe thead th {\n",
       "        text-align: right;\n",
       "    }\n",
       "</style>\n",
       "<table border=\"1\" class=\"dataframe\">\n",
       "  <thead>\n",
       "    <tr style=\"text-align: right;\">\n",
       "      <th></th>\n",
       "      <th>People in a room</th>\n",
       "      <th>Prediction</th>\n",
       "    </tr>\n",
       "    <tr>\n",
       "      <th>Timestamp</th>\n",
       "      <th></th>\n",
       "      <th></th>\n",
       "    </tr>\n",
       "  </thead>\n",
       "  <tbody>\n",
       "    <tr>\n",
       "      <th>2024-10-24 20:10:00</th>\n",
       "      <td>0.0</td>\n",
       "      <td>0.0</td>\n",
       "    </tr>\n",
       "    <tr>\n",
       "      <th>2024-10-21 07:30:00</th>\n",
       "      <td>0.0</td>\n",
       "      <td>0.0</td>\n",
       "    </tr>\n",
       "    <tr>\n",
       "      <th>2024-10-19 15:50:00</th>\n",
       "      <td>0.0</td>\n",
       "      <td>0.0</td>\n",
       "    </tr>\n",
       "    <tr>\n",
       "      <th>2024-10-12 05:40:00</th>\n",
       "      <td>0.0</td>\n",
       "      <td>0.0</td>\n",
       "    </tr>\n",
       "    <tr>\n",
       "      <th>2024-10-16 14:50:00</th>\n",
       "      <td>0.0</td>\n",
       "      <td>0.0</td>\n",
       "    </tr>\n",
       "    <tr>\n",
       "      <th>...</th>\n",
       "      <td>...</td>\n",
       "      <td>...</td>\n",
       "    </tr>\n",
       "    <tr>\n",
       "      <th>2024-10-19 04:20:00</th>\n",
       "      <td>0.0</td>\n",
       "      <td>0.0</td>\n",
       "    </tr>\n",
       "    <tr>\n",
       "      <th>2024-10-17 15:10:00</th>\n",
       "      <td>0.0</td>\n",
       "      <td>0.0</td>\n",
       "    </tr>\n",
       "    <tr>\n",
       "      <th>2024-10-15 23:40:00</th>\n",
       "      <td>0.0</td>\n",
       "      <td>0.0</td>\n",
       "    </tr>\n",
       "    <tr>\n",
       "      <th>2024-10-26 17:10:00</th>\n",
       "      <td>0.0</td>\n",
       "      <td>0.0</td>\n",
       "    </tr>\n",
       "    <tr>\n",
       "      <th>2024-10-17 10:40:00</th>\n",
       "      <td>0.0</td>\n",
       "      <td>0.0</td>\n",
       "    </tr>\n",
       "  </tbody>\n",
       "</table>\n",
       "<p>530 rows × 2 columns</p>\n",
       "</div>"
      ],
      "text/plain": [
       "                     People in a room  Prediction\n",
       "Timestamp                                        \n",
       "2024-10-24 20:10:00               0.0         0.0\n",
       "2024-10-21 07:30:00               0.0         0.0\n",
       "2024-10-19 15:50:00               0.0         0.0\n",
       "2024-10-12 05:40:00               0.0         0.0\n",
       "2024-10-16 14:50:00               0.0         0.0\n",
       "...                               ...         ...\n",
       "2024-10-19 04:20:00               0.0         0.0\n",
       "2024-10-17 15:10:00               0.0         0.0\n",
       "2024-10-15 23:40:00               0.0         0.0\n",
       "2024-10-26 17:10:00               0.0         0.0\n",
       "2024-10-17 10:40:00               0.0         0.0\n",
       "\n",
       "[530 rows x 2 columns]"
      ]
     },
     "execution_count": 24,
     "metadata": {},
     "output_type": "execute_result"
    }
   ],
   "source": [
    "from sklearn.neural_network import MLPClassifier\n",
    "#instancing a multi layer perceptron classifier with one hidden layer with 4 neurons\n",
    "nn_classifier = MLPClassifier(hidden_layer_sizes=(4), max_iter=1000)\n",
    "nn_classifier.fit(x_train, y_train) #fitting model to data\n",
    "nn_y_predict = nn_classifier.predict(x_test) #predicting test data\n",
    "nn_y_predict = pd.Series(nn_y_predict, name='Prediction', index=y_test.index)\n",
    "nn_results = pd.concat([y_test, nn_y_predict], axis=1) #comparing data\n",
    "nn_results"
   ]
  },
  {
   "cell_type": "markdown",
   "id": "e6ca767b",
   "metadata": {},
   "source": [
    "Confusion matric for neural network classifier"
   ]
  },
  {
   "cell_type": "code",
   "execution_count": 25,
   "id": "b2382db3",
   "metadata": {},
   "outputs": [
    {
     "name": "stdout",
     "output_type": "stream",
     "text": [
      "[[511   0]\n",
      " [ 19   0]]\n"
     ]
    }
   ],
   "source": [
    "nn_cm = confusion_matrix(y_test, nn_y_predict) #calculate confusion matrix for test set\n",
    "print(nn_cm)"
   ]
  },
  {
   "cell_type": "markdown",
   "id": "b661b6e6",
   "metadata": {},
   "source": [
    "Training accuracy score for neural network classifier"
   ]
  },
  {
   "cell_type": "code",
   "execution_count": 26,
   "id": "9a371f97",
   "metadata": {},
   "outputs": [
    {
     "data": {
      "text/plain": [
       "96.41001417099669"
      ]
     },
     "execution_count": 26,
     "metadata": {},
     "output_type": "execute_result"
    }
   ],
   "source": [
    "accuracy_score(y_train, nn_classifier.predict(x_train))*100"
   ]
  },
  {
   "cell_type": "markdown",
   "id": "bbf7a6ce",
   "metadata": {},
   "source": [
    "Test accuracy score for neural network classifier"
   ]
  },
  {
   "cell_type": "code",
   "execution_count": 27,
   "id": "62b10012",
   "metadata": {},
   "outputs": [
    {
     "data": {
      "text/plain": [
       "96.41509433962264"
      ]
     },
     "execution_count": 27,
     "metadata": {},
     "output_type": "execute_result"
    }
   ],
   "source": [
    "accuracy_score(y_test, nn_y_predict)*100"
   ]
  },
  {
   "cell_type": "code",
   "execution_count": null,
   "id": "c233e523",
   "metadata": {},
   "outputs": [],
   "source": []
  },
  {
   "cell_type": "code",
   "execution_count": null,
   "id": "1aa61703",
   "metadata": {},
   "outputs": [],
   "source": []
  }
 ],
 "metadata": {
  "kernelspec": {
   "display_name": "myenv",
   "language": "python",
   "name": "python3"
  },
  "language_info": {
   "codemirror_mode": {
    "name": "ipython",
    "version": 3
   },
   "file_extension": ".py",
   "mimetype": "text/x-python",
   "name": "python",
   "nbconvert_exporter": "python",
   "pygments_lexer": "ipython3",
   "version": "3.11.11"
  }
 },
 "nbformat": 4,
 "nbformat_minor": 5
}
